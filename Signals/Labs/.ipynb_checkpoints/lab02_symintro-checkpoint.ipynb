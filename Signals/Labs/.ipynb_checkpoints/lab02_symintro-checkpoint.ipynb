{
 "cells": [
  {
   "cell_type": "markdown",
   "metadata": {},
   "source": [
    "# Lab X:  Symbolic math introduction"
   ]
  },
  {
   "cell_type": "markdown",
   "metadata": {},
   "source": [
    "Symbolic mathematics is a maturing technology that lets a computer do maths using symbolic manipulation rather than numerical computation.  Python has support for symbolic computation via the \"sympy\" package.\n",
    "\n",
    "The sympy documentation can be found at http://docs.sympy.org/latest/index.html.  The PDF version is just under 2000 pages long, which is quite frightening.\n",
    "\n",
    "Nonetheless, this notebook will introduce some of the basics of symbolic math using Python.  In particular we will see how to define functions of symbolic variables, and differentiate and integrate them symbolically.  \n",
    "\n",
    "Some other good examples of sympy in use are at http://www.cfm.brown.edu/people/dobrush/am33/SymPy/index.html and https://github.com/sympy/sympy/wiki/Quick-examples.  The first one in particular deals with differential equations, which will be used in subsequent computer assignments."
   ]
  },
  {
   "cell_type": "markdown",
   "metadata": {},
   "source": [
    "## Basic differentiation\n",
    "\n",
    "The cell below imports the symbolic math package, and defines two symbolic variables `x` and `y`.  A symbolic function $f(x,y) = (x^2-2x+3)/y$ is then defined and printed."
   ]
  },
  {
   "cell_type": "code",
   "execution_count": 2,
   "metadata": {},
   "outputs": [
    {
     "name": "stdout",
     "output_type": "stream",
     "text": [
      "(x**2 - 2*x + 3)/y\n"
     ]
    }
   ],
   "source": [
    "import sympy as sp\n",
    "\n",
    "x, y = sp.symbols('x y');\n",
    "f = (x**2 - 2*x + 3)/y;\n",
    "print(f);"
   ]
  },
  {
   "cell_type": "markdown",
   "metadata": {},
   "source": [
    "Note that `f` here is a symbol representing a function.  It would be nice if the notation made it explicit that it's actually a function of $x$ and $y$, namely `f(x,y)`, but that's not how it works.  However, we can query the free variables:"
   ]
  },
  {
   "cell_type": "code",
   "execution_count": 2,
   "metadata": {},
   "outputs": [
    {
     "data": {
      "text/plain": [
       "{x, y}"
      ]
     },
     "execution_count": 2,
     "metadata": {},
     "output_type": "execute_result"
    }
   ],
   "source": [
    "f.free_symbols"
   ]
  },
  {
   "cell_type": "markdown",
   "metadata": {},
   "source": [
    "We can get sympy to find a symbolic expression for the partial derivative of $f(x,y)$ with respect to $y$: "
   ]
  },
  {
   "cell_type": "code",
   "execution_count": 3,
   "metadata": {},
   "outputs": [
    {
     "data": {
      "text/plain": [
       "-(x**2 - 2*x + 3)/y**2"
      ]
     },
     "execution_count": 3,
     "metadata": {},
     "output_type": "execute_result"
    }
   ],
   "source": [
    "fpy = sp.diff(f, y)\n",
    "fpy"
   ]
  },
  {
   "cell_type": "markdown",
   "metadata": {},
   "source": [
    "To evaluate this derivative at some particular values $x=\\pi$ and $y=2$ we can substitute into the symbolic expression:"
   ]
  },
  {
   "cell_type": "code",
   "execution_count": 4,
   "metadata": {},
   "outputs": [
    {
     "data": {
      "text/plain": [
       "-pi**2/4 - 3/4 + pi/2"
      ]
     },
     "execution_count": 4,
     "metadata": {},
     "output_type": "execute_result"
    }
   ],
   "source": [
    "fpyv = fpy.subs([(x, sp.pi), (y, 2)])\n",
    "fpyv"
   ]
  },
  {
   "cell_type": "markdown",
   "metadata": {},
   "source": [
    "Notice though that this is still a symbolic expression.  It can be evaluated using the \"evalf\" method, which finally returns a number:"
   ]
  },
  {
   "cell_type": "code",
   "execution_count": 5,
   "metadata": {},
   "outputs": [
    {
     "data": {
      "text/plain": [
       "-1.64660477347744"
      ]
     },
     "execution_count": 5,
     "metadata": {},
     "output_type": "execute_result"
    }
   ],
   "source": [
    "fpyv.evalf()"
   ]
  },
  {
   "cell_type": "markdown",
   "metadata": {},
   "source": [
    "## More advanced differentiation\n",
    "\n",
    "Symbolic expressions can be manipulated.  For example we can define $g(t) = f(x(t), y(t))$, which in this case given above means\n",
    "$$g(t) = (x(t)^2-2x(t)+3)/y(t),$$\n",
    "and find its derivative with respect to time."
   ]
  },
  {
   "cell_type": "code",
   "execution_count": 6,
   "metadata": {},
   "outputs": [
    {
     "name": "stdout",
     "output_type": "stream",
     "text": [
      "(x(t)**2 - 2*x(t) + 3)/y(t)\n",
      "(2*x(t)*Derivative(x(t), t) - 2*Derivative(x(t), t))/y(t) - (x(t)**2 - 2*x(t) + 3)*Derivative(y(t), t)/y(t)**2\n"
     ]
    }
   ],
   "source": [
    "t = sp.symbols('t');\n",
    "g = f.subs([(x,x(t)),(y,y(t))]);\n",
    "gp = sp.diff(g,t);\n",
    "print(g);\n",
    "print(gp); "
   ]
  },
  {
   "cell_type": "markdown",
   "metadata": {},
   "source": [
    "At this stage the functions $x(t)$ and $y(t)$ are not defined, so the result above expresses the derivative in terms of $dx(t)/dt$ and $dy(t)/dt$ (represented as `Derivative(x(t), t)` and `Derivative(y(t), t)`.  You can see that the chain rule has been applied correctly.  If we know for instance that $x(t) = \\sin(t)$ and $y(t) = \\cos(2t)$ then we can substitute and evaluate the derivative:"
   ]
  },
  {
   "cell_type": "code",
   "execution_count": 7,
   "metadata": {},
   "outputs": [
    {
     "data": {
      "text/plain": [
       "(2*sin(t)*cos(t) - 2*cos(t))/cos(2*t) + 2*(sin(t)**2 - 2*sin(t) + 3)*sin(2*t)/cos(2*t)**2"
      ]
     },
     "execution_count": 7,
     "metadata": {},
     "output_type": "execute_result"
    }
   ],
   "source": [
    "gps = gp.subs([(x(t),sp.sin(t)), (y(t),sp.cos(2*t))]);\n",
    "gpv = gps.doit();\n",
    "gpv"
   ]
  },
  {
   "cell_type": "markdown",
   "metadata": {},
   "source": [
    "A symbolic expression can be turned into what is called a lambda function that can be called with numerical values for a single symbolic argument.  For example, the cell below makes `gpv` above into a function and calls it with an array of values for $t$."
   ]
  },
  {
   "cell_type": "code",
   "execution_count": 8,
   "metadata": {},
   "outputs": [
    {
     "data": {
      "text/plain": [
       "array([ 21.67814886,  -7.22997494,   0.11165607])"
      ]
     },
     "execution_count": 8,
     "metadata": {},
     "output_type": "execute_result"
    }
   ],
   "source": [
    "import numpy as np\n",
    "\n",
    "lam_h = sp.lambdify(t, gpv, modules=['numpy']);\n",
    "lam_h(np.array((1,2,3)))"
   ]
  },
  {
   "cell_type": "markdown",
   "metadata": {},
   "source": [
    "## Plotting symbolic functions\n",
    "\n",
    "The sympy module has a `plot` method that knows how to plot symbolic functions of a single variable.  The function `g` above with $x(t) = \\sin(t)$ and $y(t) = \\cos(2t)$ is a function of a single time variable `t`, and can be visualised as follows:"
   ]
  },
  {
   "cell_type": "code",
   "execution_count": 9,
   "metadata": {},
   "outputs": [
    {
     "name": "stdout",
     "output_type": "stream",
     "text": [
      "(sin(t)**2 - 2*sin(t) + 3)/cos(2*t)\n"
     ]
    },
    {
     "data": {
      "image/png": "[encoded data removed]",
      "text/plain": [
       "<matplotlib.figure.Figure at 0x11764f7f0>"
      ]
     },
     "metadata": {},
     "output_type": "display_data"
    }
   ],
   "source": [
    "gst = g.subs([(x(t),sp.sin(t)), (y(t),sp.cos(2*t))]);\n",
    "print(gst);\n",
    "sp.plot(gst, (t,1,2));"
   ]
  },
  {
   "cell_type": "markdown",
   "metadata": {},
   "source": [
    "A roughly equivalent plot could be obtained numerically by creating a lambda function for the expression, evaluating it for a closely-spaced set of values of `t` over the required range, and using standard numerical plotting functions that draw straight lines between the calulated points.  If you increase the number of calculated points over the interval then the  approximation in the above graph becomes more accurate."
   ]
  },
  {
   "cell_type": "code",
   "execution_count": null,
   "metadata": {},
   "outputs": [],
   "source": [
    "import matplotlib.pyplot as plt\n",
    "%matplotlib notebook\n",
    "\n",
    "tv = np.linspace(1, 2, 10);\n",
    "gst_h = sp.lambdify(t, gst, modules=['numpy']);\n",
    "gstv = gst_h(tv);\n",
    "plt.plot(tv, gstv);\n"
   ]
  },
  {
   "cell_type": "markdown",
   "metadata": {},
   "source": [
    "The sympy plot function is quite fragile, and might not always work.  Symbolic math packages are amazing, but they're difficult to implement and are sometimes not robust:  you'll find various postings on the internet that give instances of very good symbolic math engines giving a wrong result.  In short, they are useful but you should be careful when using them.\n",
    "\n",
    "One other nice thing about Jupyter notebooks is that a pretty-print method exists for symbolic expressions.  After the appropriate setup, note the difference in output between the `print` and `display` methods below:"
   ]
  },
  {
   "cell_type": "code",
   "execution_count": 11,
   "metadata": {},
   "outputs": [
    {
     "name": "stdout",
     "output_type": "stream",
     "text": [
      "(sin(t)**2 - 2*sin(t) + 3)/cos(2*t)\n"
     ]
    },
    {
     "data": {
      "image/png": "[encoded data removed]",
      "text/latex": [
       "$$\\frac{1}{\\cos{\\left (2 t \\right )}} \\left(\\sin^{2}{\\left (t \\right )} - 2 \\sin{\\left (t \\right )} + 3\\right)$$"
      ],
      "text/plain": [
       "   2                  \n",
       "sin (t) - 2⋅sin(t) + 3\n",
       "──────────────────────\n",
       "       cos(2⋅t)       "
      ]
     },
     "metadata": {},
     "output_type": "display_data"
    }
   ],
   "source": [
    "from IPython.display import display\n",
    "sp.init_printing()  # pretty printing\n",
    "\n",
    "print(gst);\n",
    "display(gst);"
   ]
  },
  {
   "cell_type": "markdown",
   "metadata": {},
   "source": [
    "## Symbolic integration\n",
    "\n",
    "Integration is also a standard function in sympy, so we can find for example the integral\n",
    "$$y(t) = \\int_{-10}^t x(\\lambda) d\\lambda$$\n",
    "for $x(t) = e^{-t/10} \\cos(t)$:"
   ]
  },
  {
   "cell_type": "code",
   "execution_count": 12,
   "metadata": {
    "scrolled": true
   },
   "outputs": [
    {
     "data": {
      "image/png": "[encoded data removed]",
      "text/latex": [
       "$$\\frac{100 e}{101} \\sin{\\left (10 \\right )} + \\frac{10 e}{101} \\cos{\\left (10 \\right )} + \\frac{100}{101} e^{- \\frac{t}{10}} \\sin{\\left (t \\right )} - \\frac{10}{101} e^{- \\frac{t}{10}} \\cos{\\left (t \\right )}$$"
      ],
      "text/plain": [
       "                                    -t               -t        \n",
       "                                    ───              ───       \n",
       "                                     10               10       \n",
       "100⋅ℯ⋅sin(10)   10⋅ℯ⋅cos(10)   100⋅ℯ   ⋅sin(t)   10⋅ℯ   ⋅cos(t)\n",
       "───────────── + ──────────── + ─────────────── - ──────────────\n",
       "     101            101              101              101      "
      ]
     },
     "execution_count": 12,
     "metadata": {},
     "output_type": "execute_result"
    }
   ],
   "source": [
    "xt = sp.exp(-t/10)*sp.cos(t);  # x(t)\n",
    "lamb = sp.symbols('lamb');  \n",
    "xl = xt.subs(t,lamb);  # x(lamb)\n",
    "\n",
    "yt = sp.integrate(xl, (lamb, -10, t));  # indefinite integral\n",
    "yt"
   ]
  },
  {
   "cell_type": "markdown",
   "metadata": {
    "collapsed": true
   },
   "source": [
    "## Tasks\n",
    "\n",
    "These tasks involve writing code, or modifying existing code, to meet the objectives described.\n",
    "\n",
    "1.  Define the expression $y(t) = v_0 t - \\frac{1}{2} g t^2$ for some symbolic values of $v_0$ and $g$ using sympy.  You should recognise this as the \"altitude\" of a particle moving under the influence of gravity, given that the initial velocity at time $t=0$ is $v_0$.  Make a plot of the particle height in meters for $v_0 = 22.5m/s$ given $g = 9.8 m/s^2$, over the range $t=0$ to $t=5s$.<br><br>\n",
    "\n",
    "2.  Use symbolic math and the `roots` method to find an expression for the zeros of the expression $y(t)$ above for the same set of conditions.  Substitute to find the nonzero numerical value of $t$ for which your plot in the previous task crosses the x-axis.<br><br>\n",
    "\n",
    "3.  Use symbolic differentiation to find the vertical velocity of the particle in the previous task as a function of time, given the same conditions.  Make a plot of this velocity over the same time range.<br><br>\n",
    "\n",
    "4.  Suppose the acceleration of a particle is given by $a(t) = 0.2 + \\cos(t)$ for positive time.  Use symbolic methods to find and plot the velocity $v(t)$ of the particle over the range $t=0$ to $t=5$ given the initial condition $v(0) = -0.3$.  Then find and plot the position $s(t)$ of the particle over the same time period, given the additional auxiliary condition $s(0) = 0.1$."
   ]
  },
  {
   "cell_type": "code",
   "execution_count": 13,
   "metadata": {
    "collapsed": true
   },
   "outputs": [],
   "source": []
  }
 ],
 "metadata": {
  "anaconda-cloud": {},
  "kernelspec": {
   "display_name": "Python 3",
   "language": "python",
   "name": "python3"
  },
  "language_info": {
   "codemirror_mode": {
    "name": "ipython",
    "version": 3
   },
   "file_extension": ".py",
   "mimetype": "text/x-python",
   "name": "python",
   "nbconvert_exporter": "python",
   "pygments_lexer": "ipython3",
   "version": "3.6.1"
  }
 },
 "nbformat": 4,
 "nbformat_minor": 1
}
